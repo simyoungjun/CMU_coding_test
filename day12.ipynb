{
 "cells": [
  {
   "cell_type": "code",
   "execution_count": 3,
   "metadata": {},
   "outputs": [
    {
     "data": {
      "text/plain": [
       "[-1, -1, 1, -1, -1, -1]"
      ]
     },
     "execution_count": 3,
     "metadata": {},
     "output_type": "execute_result"
    }
   ],
   "source": [
    "#가장 가까운 같은 글자\n",
    "def solution(s):\n",
    "    s_presence = {}\n",
    "    s_nearest = []\n",
    "    for i,char in enumerate(s):\n",
    "        try:\n",
    "            s_nearest.append(i - s_presence[char])\n",
    "        except: \n",
    "            s_nearest.append(-1)\n",
    "        s_presence[char] = i     \n",
    "        \n",
    "    return s_nearest"
   ]
  },
  {
   "cell_type": "code",
   "execution_count": 13,
   "metadata": {},
   "outputs": [
    {
     "name": "stdout",
     "output_type": "stream",
     "text": [
      "4\n"
     ]
    }
   ],
   "source": [
    "#디펜스 게임 x\n",
    "n = 2\n",
    "k = 4\n",
    "enemy = [3, 3, 3, 3]\n",
    "\n",
    "answer = 0\n",
    "win = []\n",
    "max_i = 0\n",
    "for i,num in enumerate(enemy):\n",
    "    win.append(num)\n",
    "    \n",
    "    if win[max_i] < num:\n",
    "        max_i = i\n",
    "\n",
    "    if sum(win) > n:\n",
    "        if k > 0:\n",
    "            win[max_i] = 0\n",
    "            k -= 1\n",
    "        else:\n",
    "            answer = i - 1\n",
    "\n",
    "    answer = i + 1\n",
    "print(answer)\n",
    "        "
   ]
  },
  {
   "cell_type": "code",
   "execution_count": null,
   "metadata": {},
   "outputs": [],
   "source": [
    "#숫자 비교하기 lv1\n",
    "def solution(num1, num2):\n",
    "    if num1 == num2:\n",
    "        return 1\n",
    "    else:\n",
    "        return -1"
   ]
  }
 ],
 "metadata": {
  "kernelspec": {
   "display_name": "Python 3.9.12 ('base')",
   "language": "python",
   "name": "python3"
  },
  "language_info": {
   "codemirror_mode": {
    "name": "ipython",
    "version": 3
   },
   "file_extension": ".py",
   "mimetype": "text/x-python",
   "name": "python",
   "nbconvert_exporter": "python",
   "pygments_lexer": "ipython3",
   "version": "3.9.12"
  },
  "orig_nbformat": 4,
  "vscode": {
   "interpreter": {
    "hash": "af22455c149eed811af05f2ec26b1dc911d3011acf75b485f4a991ba41839545"
   }
  }
 },
 "nbformat": 4,
 "nbformat_minor": 2
}

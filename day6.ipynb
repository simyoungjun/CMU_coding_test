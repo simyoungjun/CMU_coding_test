{
 "cells": [
  {
   "cell_type": "markdown",
   "metadata": {},
   "source": [
    "![](https://github.com/simyoungjun/CMU_coding_test/blob/master/pic_CMU_coding_test/%EC%B9%B4%ED%8E%AB.png?raw=True)"
   ]
  },
  {
   "cell_type": "code",
   "execution_count": 21,
   "metadata": {},
   "outputs": [],
   "source": [
    "#카펫\n",
    "def solution(brown, yellow):\n",
    "    for i in range(1, yellow + 1):\n",
    "        if yellow % i == 0:\n",
    "            col = i\n",
    "            row = yellow // i\n",
    "\n",
    "            left = 2*row + 2*col + 4 + row*col\n",
    "            right = (row + 2) * (col + 2)\n",
    "            if left == right and (brown + yellow) == (row + 2) * (col + 2):\n",
    "                answer = [row + 2, col + 2]\n",
    "                break\n",
    "\n",
    "    return answer"
   ]
  },
  {
   "cell_type": "markdown",
   "metadata": {},
   "source": [
    "![](https://github.com/simyoungjun/CMU_coding_test/blob/master/pic_CMU_coding_test/%EC%98%81%EC%96%B4%20%EB%81%9D%EB%A7%90%EC%9E%87%EA%B8%B0.png?raw=True)"
   ]
  },
  {
   "cell_type": "code",
   "execution_count": 12,
   "metadata": {},
   "outputs": [],
   "source": [
    "#영어 끝말잇기\n",
    "def solution(n, words):\n",
    "    answer = []\n",
    "\n",
    "    last_cha = words[0][-1]\n",
    "    answer = [0,0]\n",
    "    for i, word in enumerate(words[1:]):\n",
    "        if last_cha != word[0] or len(word) == 1 or word in words[:i]:\n",
    "            answer = [(i + 1) % n + 1, (i + 1) // n + 1]\n",
    "            break\n",
    "        last_cha = word[-1]\n",
    "\n",
    "    return answer"
   ]
  }
 ],
 "metadata": {
  "kernelspec": {
   "display_name": "Python 3.9.12 ('base')",
   "language": "python",
   "name": "python3"
  },
  "language_info": {
   "codemirror_mode": {
    "name": "ipython",
    "version": 3
   },
   "file_extension": ".py",
   "mimetype": "text/x-python",
   "name": "python",
   "nbconvert_exporter": "python",
   "pygments_lexer": "ipython3",
   "version": "3.9.12"
  },
  "orig_nbformat": 4,
  "vscode": {
   "interpreter": {
    "hash": "af22455c149eed811af05f2ec26b1dc911d3011acf75b485f4a991ba41839545"
   }
  }
 },
 "nbformat": 4,
 "nbformat_minor": 2
}

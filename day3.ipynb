{
 "cells": [
  {
   "cell_type": "markdown",
   "metadata": {},
   "source": [
    "![](https://github.com/simyoungjun/CMU_coding_test/blob/master/pic_CMU_coding_test/%EC%9E%90%EC%97%B0%EC%88%98%20%EB%92%A4%EC%A7%91%EC%96%B4%20%EB%B0%B0%EC%97%B4%EB%A1%9C%20%EB%A7%8C%EB%93%A4%EA%B8%B0.png?raw=True)"
   ]
  },
  {
   "cell_type": "code",
   "execution_count": null,
   "metadata": {},
   "outputs": [],
   "source": [
    "def solution(n):\n",
    "    n = str(n)[::-1]\n",
    "    answer = list(map(int,n))\n",
    "    return answer\n"
   ]
  },
  {
   "cell_type": "markdown",
   "metadata": {},
   "source": [
    "![](https://github.com/simyoungjun/CMU_coding_test/blob/master/pic_CMU_coding_test/%EC%B5%9C%EB%8C%93%EA%B0%92%EA%B3%BC%20%EC%B5%9C%EC%86%9F%EA%B0%92.png?raw=True)"
   ]
  },
  {
   "cell_type": "code",
   "execution_count": null,
   "metadata": {},
   "outputs": [],
   "source": [
    "def solution(s):\n",
    "    s = s.split(' ')\n",
    "    t = list(map(int,s))\n",
    "    answer = \" \".join([str(min(t)),str(max(t))])\n",
    "    return answer\n",
    "    "
   ]
  },
  {
   "cell_type": "markdown",
   "metadata": {},
   "source": [
    "![](https://github.com/simyoungjun/CMU_coding_test/blob/master/pic_CMU_coding_test/%ED%94%BC%EB%B3%B4%EB%82%98%EC%B9%98%20%EC%88%98.png?raw=True)"
   ]
  },
  {
   "cell_type": "code",
   "execution_count": null,
   "metadata": {},
   "outputs": [],
   "source": [
    "def solution(n):\n",
    "    f={}\n",
    "    f[0]=0\n",
    "    f[1]=1\n",
    "    for i in range(2,n+1):\n",
    "        f[i]=f[i-1]+f[i-2]\n",
    "    answer = f[n]%1234567\n",
    "    return answer"
   ]
  },
  {
   "cell_type": "markdown",
   "metadata": {},
   "source": [
    "![](https://github.com/simyoungjun/CMU_coding_test/blob/master/pic_CMU_coding_test/%EB%8B%A4%EC%9D%8C%20%ED%81%B0%20%EC%88%AB%EC%9E%90.png?raw=True)"
   ]
  },
  {
   "cell_type": "code",
   "execution_count": null,
   "metadata": {},
   "outputs": [],
   "source": [
    "def solution(n):\n",
    "    f_num = binary_1(n)\n",
    "    l_num = 0\n",
    "    while f_num != l_num:\n",
    "        n += 1\n",
    "        l_num = binary_1(n)\n",
    "    return n\n",
    "\n",
    "def binary_1(n):\n",
    "    bi = []\n",
    "    while n > 1:\n",
    "        bi.append(n%2)\n",
    "        n = n//2\n",
    "    bi.append(n)\n",
    "    bi = bi[::-1]\n",
    "    one_num = bi.count(1)\n",
    "    return one_num"
   ]
  }
 ],
 "metadata": {
  "kernelspec": {
   "display_name": "Python 3.9.12 ('base')",
   "language": "python",
   "name": "python3"
  },
  "language_info": {
   "codemirror_mode": {
    "name": "ipython",
    "version": 3
   },
   "file_extension": ".py",
   "mimetype": "text/x-python",
   "name": "python",
   "nbconvert_exporter": "python",
   "pygments_lexer": "ipython3",
   "version": "3.9.12"
  },
  "orig_nbformat": 4,
  "vscode": {
   "interpreter": {
    "hash": "af22455c149eed811af05f2ec26b1dc911d3011acf75b485f4a991ba41839545"
   }
  }
 },
 "nbformat": 4,
 "nbformat_minor": 2
}

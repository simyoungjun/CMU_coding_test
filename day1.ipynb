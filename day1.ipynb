{
 "cells": [
  {
   "cell_type": "markdown",
   "metadata": {},
   "source": [
    "![](https://github.com/simyoungjun/CMU_coding_test/blob/master/pic_CMU_coding_test/%EC%95%BD%EC%88%98%EC%9D%98%20%ED%95%A9.png?raw=True)"
   ]
  },
  {
   "cell_type": "markdown",
   "metadata": {},
   "source": []
  },
  {
   "cell_type": "code",
   "execution_count": 1,
   "metadata": {},
   "outputs": [],
   "source": [
    "# from IPython.display import Image  # 주피터 노트북에 이미지 삽입\n",
    "# Image(\"../pic_CMU_coding_test/짝수와 홀수.png\")"
   ]
  },
  {
   "cell_type": "code",
   "execution_count": null,
   "metadata": {},
   "outputs": [],
   "source": [
    "def solution(num):\n",
    "    answer = 'Odd'\n",
    "    if num%2 == 0:\n",
    "        answer = 'Even'\n",
    "    return answer\n",
    "    "
   ]
  },
  {
   "cell_type": "markdown",
   "metadata": {},
   "source": [
    "![](https://github.com/simyoungjun/CMU_coding_test/blob/master/pic_CMU_coding_test/%EC%A7%9D%EC%88%98%EC%99%80%20%ED%99%80%EC%88%98.png?raw=True)"
   ]
  },
  {
   "cell_type": "code",
   "execution_count": null,
   "metadata": {},
   "outputs": [],
   "source": [
    "def solution(n):\n",
    "    answer = 0\n",
    "    \n",
    "    sum = 0\n",
    "    for i in range(1,n+1):\n",
    "        if n % i == 0:\n",
    "            sum += i\n",
    "            \n",
    "    answer = sum\n",
    "    return answer"
   ]
  }
 ],
 "metadata": {
  "kernelspec": {
   "display_name": "Python 3.9.12 ('base')",
   "language": "python",
   "name": "python3"
  },
  "language_info": {
   "codemirror_mode": {
    "name": "ipython",
    "version": 3
   },
   "file_extension": ".py",
   "mimetype": "text/x-python",
   "name": "python",
   "nbconvert_exporter": "python",
   "pygments_lexer": "ipython3",
   "version": "3.9.12"
  },
  "orig_nbformat": 4,
  "vscode": {
   "interpreter": {
    "hash": "af22455c149eed811af05f2ec26b1dc911d3011acf75b485f4a991ba41839545"
   }
  }
 },
 "nbformat": 4,
 "nbformat_minor": 2
}

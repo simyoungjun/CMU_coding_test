{
 "cells": [
  {
   "cell_type": "code",
   "execution_count": 1,
   "metadata": {},
   "outputs": [],
   "source": []
  },
  {
   "cell_type": "code",
   "execution_count": 2,
   "metadata": {},
   "outputs": [
    {
     "name": "stdout",
     "output_type": "stream",
     "text": [
      "6\n"
     ]
    }
   ],
   "source": [
    "#디펜스 게임\n",
    "from heapq import heappush, heappop\n",
    "\n",
    "def solution(n, k, enemy):\n",
    "    win = 0\n",
    "    round = 0\n",
    "    h = []\n",
    "\n",
    "    for num in enemy:    \n",
    "        win += num\n",
    "        heappush(h, -num)\n",
    "        \n",
    "        if win > n:\n",
    "            \n",
    "            if k > 0:\n",
    "                k -= 1\n",
    "                win += heappop(h)\n",
    "            else:\n",
    "                break   \n",
    "\n",
    "        round += 1\n",
    "\n",
    "    answer = round\n",
    "    return answer"
   ]
  },
  {
   "cell_type": "code",
   "execution_count": 15,
   "metadata": {},
   "outputs": [],
   "source": [
    "#점 찍기\n",
    "def solution(k, d):\n",
    "    dot_num = 0\n",
    "    for y in range(0, d, k):\n",
    "        x = (d**2 - y**2)**0.5\n",
    "        dot_num += x//k\n",
    "    return dot_num + d//k + 1"
   ]
  }
 ],
 "metadata": {
  "kernelspec": {
   "display_name": "Python 3.9.12 ('base')",
   "language": "python",
   "name": "python3"
  },
  "language_info": {
   "codemirror_mode": {
    "name": "ipython",
    "version": 3
   },
   "file_extension": ".py",
   "mimetype": "text/x-python",
   "name": "python",
   "nbconvert_exporter": "python",
   "pygments_lexer": "ipython3",
   "version": "3.9.12"
  },
  "orig_nbformat": 4,
  "vscode": {
   "interpreter": {
    "hash": "af22455c149eed811af05f2ec26b1dc911d3011acf75b485f4a991ba41839545"
   }
  }
 },
 "nbformat": 4,
 "nbformat_minor": 2
}

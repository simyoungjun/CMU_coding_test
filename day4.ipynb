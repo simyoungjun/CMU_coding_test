{
 "cells": [
  {
   "cell_type": "markdown",
   "metadata": {},
   "source": [
    "![](https://github.com/simyoungjun/CMU_coding_test/blob/master/pic_CMU_coding_test/%EC%84%B8%EA%B7%A0%20%EC%A6%9D%EC%8B%9D.png?raw=True)"
   ]
  },
  {
   "cell_type": "code",
   "execution_count": 3,
   "metadata": {},
   "outputs": [],
   "source": [
    "#세균 증식\n",
    "def solution(n, t):\n",
    "    answer = n*2**t\n",
    "    return answer"
   ]
  },
  {
   "cell_type": "markdown",
   "metadata": {},
   "source": [
    "![](https://github.com/simyoungjun/CMU_coding_test/blob/master/pic_CMU_coding_test/%EA%B0%80%EC%9C%84%20%EB%B0%94%EC%9C%84%20%EB%B3%B4.png?raw=True)"
   ]
  },
  {
   "cell_type": "code",
   "execution_count": 13,
   "metadata": {},
   "outputs": [],
   "source": [
    "#가위 바위 보\n",
    "def solution(rsp):\n",
    "    answer = ''\n",
    "    a={'2':'0','0':'5','5':'2'}\n",
    "    for i in rsp:\n",
    "        answer+=a[i]\n",
    "    return answer"
   ]
  }
 ],
 "metadata": {
  "kernelspec": {
   "display_name": "Python 3.9.12 ('base')",
   "language": "python",
   "name": "python3"
  },
  "language_info": {
   "codemirror_mode": {
    "name": "ipython",
    "version": 3
   },
   "file_extension": ".py",
   "mimetype": "text/x-python",
   "name": "python",
   "nbconvert_exporter": "python",
   "pygments_lexer": "ipython3",
   "version": "3.9.12"
  },
  "orig_nbformat": 4,
  "vscode": {
   "interpreter": {
    "hash": "af22455c149eed811af05f2ec26b1dc911d3011acf75b485f4a991ba41839545"
   }
  }
 },
 "nbformat": 4,
 "nbformat_minor": 2
}

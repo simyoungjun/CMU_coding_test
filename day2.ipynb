{
 "cells": [
  {
   "cell_type": "markdown",
   "metadata": {},
   "source": [
    "![](https://github.com/simyoungjun/CMU_coding_test/blob/master/pic_CMU_coding_test/%EC%A7%9D%EC%88%98%EC%99%80%20%ED%99%80%EC%88%98.png?raw=True)"
   ]
  },
  {
   "cell_type": "code",
   "execution_count": null,
   "metadata": {},
   "outputs": [],
   "source": [
    "import numpy as np\n",
    "def solution(arr):\n",
    "    answer = 0\n",
    "    answer = np.mean(arr)\n",
    "    return answer"
   ]
  },
  {
   "cell_type": "markdown",
   "metadata": {},
   "source": [
    "![](https://github.com/simyoungjun/CMU_coding_test/blob/master/pic_CMU_coding_test/%EC%A7%9D%EC%88%98%EC%99%80%20%ED%99%80%EC%88%98.png?raw=True)"
   ]
  },
  {
   "cell_type": "code",
   "execution_count": null,
   "metadata": {},
   "outputs": [],
   "source": [
    "def solution(my_string):\n",
    "    answer = []\n",
    "    for i in my_string:\n",
    "        try:\n",
    "            i=int(i)\n",
    "            answer.append(i)\n",
    "        except:\n",
    "            pass\n",
    "    answer.sort()\n",
    "    return answer\n"
   ]
  }
 ],
 "metadata": {
  "kernelspec": {
   "display_name": "Python 3.9.12 ('base')",
   "language": "python",
   "name": "python3"
  },
  "language_info": {
   "name": "python",
   "version": "3.9.12"
  },
  "orig_nbformat": 4,
  "vscode": {
   "interpreter": {
    "hash": "af22455c149eed811af05f2ec26b1dc911d3011acf75b485f4a991ba41839545"
   }
  }
 },
 "nbformat": 4,
 "nbformat_minor": 2
}
